{
 "cells": [
  {
   "cell_type": "code",
   "execution_count": 0,
   "metadata": {
    "application/vnd.databricks.v1+cell": {
     "cellMetadata": {
      "byteLimit": 2048000,
      "rowLimit": 10000
     },
     "inputWidgets": {},
     "nuid": "63d795ad-6086-4d95-8e71-4ecf52532fa3",
     "showTitle": false,
     "tableResultSettingsMap": {},
     "title": ""
    }
   },
   "outputs": [],
   "source": [
    "from pyspark.sql import functions as F\n",
    "from pyspark.sql.window import Window as W\n",
    "from pyspark.sql.types import *\n",
    "from pyspark.sql import SparkSession"
   ]
  },
  {
   "cell_type": "code",
   "execution_count": 0,
   "metadata": {
    "application/vnd.databricks.v1+cell": {
     "cellMetadata": {
      "byteLimit": 2048000,
      "rowLimit": 10000
     },
     "inputWidgets": {},
     "nuid": "d0caf307-1e52-440c-8818-1e1c45a6bd0b",
     "showTitle": false,
     "tableResultSettingsMap": {},
     "title": ""
    }
   },
   "outputs": [
    {
     "output_type": "execute_result",
     "data": {
      "text/plain": [
       "[FileInfo(path='dbfs:/mnt/salesData/silver/crm_cust_info/', name='crm_cust_info/', size=0, modificationTime=1749581400000),\n",
       " FileInfo(path='dbfs:/mnt/salesData/silver/crm_prd_info/', name='crm_prd_info/', size=0, modificationTime=1749581402000),\n",
       " FileInfo(path='dbfs:/mnt/salesData/silver/crm_sales_detail_info/', name='crm_sales_detail_info/', size=0, modificationTime=1749581396000),\n",
       " FileInfo(path='dbfs:/mnt/salesData/silver/erp_az/', name='erp_az/', size=0, modificationTime=1749581404000),\n",
       " FileInfo(path='dbfs:/mnt/salesData/silver/erp_loc/', name='erp_loc/', size=0, modificationTime=1749581403000),\n",
       " FileInfo(path='dbfs:/mnt/salesData/silver/erp_px/', name='erp_px/', size=0, modificationTime=1749581405000)]"
      ]
     },
     "execution_count": 2,
     "metadata": {},
     "output_type": "execute_result"
    }
   ],
   "source": [
    "%python\n",
    "dbutils.fs.ls(\"/mnt/salesData/silver\")"
   ]
  },
  {
   "cell_type": "code",
   "execution_count": 0,
   "metadata": {
    "application/vnd.databricks.v1+cell": {
     "cellMetadata": {
      "byteLimit": 2048000,
      "rowLimit": 10000
     },
     "inputWidgets": {},
     "nuid": "d146186f-520e-475d-971e-05cc436da7a5",
     "showTitle": false,
     "tableResultSettingsMap": {},
     "title": ""
    }
   },
   "outputs": [],
   "source": [
    "crm_cust_info = spark.read.csv(\"dbfs:/mnt/salesData/silver/crm_cust_info/\", header=True, inferSchema=True)\n",
    "crm_prd_info = spark.read.csv(\"dbfs:/mnt/salesData/silver/crm_prd_info\", header=True, inferSchema=True)\n",
    "crm_sales = spark.read.csv(\"dbfs:/mnt/salesData/silver/crm_sales_detail_info\", header=True, inferSchema=True)\n",
    "erp_az = spark.read.csv(\"dbfs:/mnt/salesData/silver/erp_az\", header=True, inferSchema=True)\n",
    "erp_loc = spark.read.csv(\"dbfs:/mnt/salesData/silver/erp_loc\", header=True, inferSchema=True)\n",
    "erp_px = spark.read.csv(\"dbfs:/mnt/salesData/silver/erp_px\", header=True, inferSchema=True)"
   ]
  },
  {
   "cell_type": "code",
   "execution_count": 0,
   "metadata": {
    "application/vnd.databricks.v1+cell": {
     "cellMetadata": {
      "byteLimit": 2048000,
      "rowLimit": 10000
     },
     "inputWidgets": {},
     "nuid": "20691efc-5a85-4cf6-98ae-ad867e755c4e",
     "showTitle": false,
     "tableResultSettingsMap": {},
     "title": ""
    }
   },
   "outputs": [],
   "source": [
    "# join the product tables to form a dimension table with unique id\n",
    "crm_prd_info.createOrReplaceTempView(\"view_prd_info\")\n",
    "erp_px.createOrReplaceTempView(\"view_px\")\n",
    "\n",
    "# join the customer tables to form a dimension table with unique id\n",
    "crm_cust_info.createOrReplaceTempView(\"view_cust_info\")\n",
    "erp_az.createOrReplaceTempView(\"view_az\")\n",
    "erp_loc.createOrReplaceTempView(\"view_loc\")\n",
    "\n",
    "# sales fact tables to form a fact table with proper business familiar names\n",
    "\n",
    "crm_sales.createOrReplaceTempView(\"view_sales\")"
   ]
  },
  {
   "cell_type": "code",
   "execution_count": 0,
   "metadata": {
    "application/vnd.databricks.v1+cell": {
     "cellMetadata": {
      "byteLimit": 2048000,
      "rowLimit": 10000
     },
     "inputWidgets": {},
     "nuid": "797be6cf-aff2-43da-9210-f036cfdfda52",
     "showTitle": false,
     "tableResultSettingsMap": {},
     "title": ""
    }
   },
   "outputs": [],
   "source": [
    "dim_customer =spark.sql(\"\"\"\n",
    "        SELECT\n",
    "            cf.cst_id AS customer_id,\n",
    "            cf.cst_key AS customer_key,\n",
    "            cf.cst_firstname AS firstname,\n",
    "            cf.cst_lastname AS lastname,\n",
    "            CASE \n",
    "                WHEN cf.cst_gndr = 'N/A' THEN coalesce(ca.GEN,'N/A')\n",
    "                ELSE cf.cst_gndr\n",
    "            END gender,\n",
    "            cf.cst_marital_status AS marital_status,\n",
    "            la.CNTRY AS country,\n",
    "            ca.BDATE AS birthdate,\n",
    "            cf.cst_create_date AS customer_created_date\n",
    "        FROM view_cust_info cf \n",
    "        LEFT JOIN view_az ca \n",
    "        ON cf.cst_key = ca.CID \n",
    "        LEFT JOIN view_loc la \n",
    "        ON cf.cst_key = la.CID \n",
    "    \"\"\"\n",
    "    \n",
    ")"
   ]
  },
  {
   "cell_type": "code",
   "execution_count": 0,
   "metadata": {
    "application/vnd.databricks.v1+cell": {
     "cellMetadata": {
      "byteLimit": 2048000,
      "rowLimit": 10000
     },
     "inputWidgets": {},
     "nuid": "9f1f1bd4-90b2-4254-a78b-d6c300157e6a",
     "showTitle": false,
     "tableResultSettingsMap": {},
     "title": ""
    }
   },
   "outputs": [],
   "source": [
    "dim_product =spark.sql(\"\"\"\n",
    "    SELECT \n",
    "        pf.prd_id AS product_id,\n",
    "        pf.prd_key AS product_key,\n",
    "        pf.prd_cat_key AS product_category_key,\n",
    "        pf.prd_nm AS product_name,\n",
    "        pf.prd_line AS product_line,\n",
    "        pf.prd_cost AS product_cost,\n",
    "        pf.prd_start_dt AS product_start_date,\n",
    "        pf.prd_end_dt AS product_end_date,\n",
    "        pcg.cat AS product_category,\n",
    "        pcg.maintenance,\n",
    "        pcg.subcat AS product_subcategory\n",
    "    FROM view_prd_info pf \n",
    "    LEFT JOIN view_px pcg \n",
    "        ON pf.prd_cat_key = pcg.id\n",
    "    WHERE pf.prd_end_dt IS NOT NULL\n",
    "\"\"\")\n"
   ]
  },
  {
   "cell_type": "code",
   "execution_count": 0,
   "metadata": {
    "application/vnd.databricks.v1+cell": {
     "cellMetadata": {
      "byteLimit": 2048000,
      "rowLimit": 10000
     },
     "inputWidgets": {},
     "nuid": "2927fb20-cc2b-4d77-bdcf-17c8b8ce4b17",
     "showTitle": false,
     "tableResultSettingsMap": {},
     "title": ""
    }
   },
   "outputs": [],
   "source": [
    "fact_sales =spark.sql(\"\"\"\n",
    "    SELECT DISTINCT\n",
    "        sls_ord_num AS order_number,\n",
    "        sls_prd_key AS product_key,\n",
    "        sls_cust_id AS customer_id,\n",
    "        sls_order_dt AS order_date,\n",
    "        sls_ship_dt AS ship_date,\n",
    "        sls_due_dt AS due_date,\n",
    "        sls_sales AS sales_amount,\n",
    "        sls_quantity AS sales_quantity,\n",
    "        sls_price AS sales_price\n",
    "    FROM view_sales\n",
    "\"\"\")"
   ]
  },
  {
   "cell_type": "code",
   "execution_count": 0,
   "metadata": {
    "application/vnd.databricks.v1+cell": {
     "cellMetadata": {
      "byteLimit": 2048000,
      "rowLimit": 10000
     },
     "inputWidgets": {},
     "nuid": "c41c52a9-bf52-4bfd-8e5e-c06ab6f2a241",
     "showTitle": false,
     "tableResultSettingsMap": {},
     "title": ""
    }
   },
   "outputs": [],
   "source": [
    "# write all transform data as csv to gold dir\n",
    "def write_to_gold(df,table_name):\n",
    "    try:\n",
    "        df.write.mode(\"overwrite\").format(\"csv\").option(\"header\",True).save(f\"/mnt/salesData/gold/{table_name}\")\n",
    "        print(f\"{table_name} written to gold\")\n",
    "    except Exception as e:\n",
    "        print(f\"error in writing {table_name} to gold\",e)\n",
    "      "
   ]
  },
  {
   "cell_type": "code",
   "execution_count": 0,
   "metadata": {
    "application/vnd.databricks.v1+cell": {
     "cellMetadata": {
      "byteLimit": 2048000,
      "rowLimit": 10000
     },
     "inputWidgets": {},
     "nuid": "a7f86453-534a-4b45-b9a0-fa02e7574eae",
     "showTitle": false,
     "tableResultSettingsMap": {},
     "title": ""
    }
   },
   "outputs": [
    {
     "output_type": "stream",
     "name": "stdout",
     "output_type": "stream",
     "text": [
      "dim_customer written to silver\ndim_product written to silver\nfact_sales written to silver\n"
     ]
    }
   ],
   "source": [
    "write_to_gold(dim_customer,'dim_customer')\n",
    "write_to_gold(dim_product,'dim_product')\n",
    "write_to_gold(fact_sales,'fact_sales')\n",
    "\n"
   ]
  }
 ],
 "metadata": {
  "application/vnd.databricks.v1+notebook": {
   "computePreferences": null,
   "dashboards": [],
   "environmentMetadata": {
    "base_environment": "",
    "environment_version": "2"
   },
   "inputWidgetPreferences": null,
   "language": "python",
   "notebookMetadata": {
    "pythonIndentUnit": 4
   },
   "notebookName": "goldER",
   "widgets": {}
  },
  "language_info": {
   "name": "python"
  }
 },
 "nbformat": 4,
 "nbformat_minor": 0
}