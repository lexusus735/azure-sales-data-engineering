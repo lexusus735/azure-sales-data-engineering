{
 "cells": [
  {
   "cell_type": "code",
   "execution_count": 0,
   "metadata": {
    "application/vnd.databricks.v1+cell": {
     "cellMetadata": {
      "byteLimit": 2048000,
      "rowLimit": 10000
     },
     "inputWidgets": {},
     "nuid": "df9d4348-9c68-4b29-99e1-2f2cce82ec40",
     "showTitle": false,
     "tableResultSettingsMap": {},
     "title": ""
    }
   },
   "outputs": [],
   "source": [
    "from pyspark.sql import functions as F\n",
    "from pyspark.sql.window import Window as W\n",
    "from pyspark.sql.types import *\n",
    "from pyspark.sql import SparkSession"
   ]
  },
  {
   "cell_type": "code",
   "execution_count": 0,
   "metadata": {
    "application/vnd.databricks.v1+cell": {
     "cellMetadata": {
      "byteLimit": 2048000,
      "rowLimit": 10000
     },
     "inputWidgets": {},
     "nuid": "271c377e-da70-4fdb-8d06-32cc693eb9f0",
     "showTitle": false,
     "tableResultSettingsMap": {},
     "title": ""
    }
   },
   "outputs": [
    {
     "data": {
      "text/plain": [
       "[FileInfo(path='dbfs:/mnt/salesData/gold/dim_customer/', name='dim_customer/', size=0, modificationTime=1749582617000),\n",
       " FileInfo(path='dbfs:/mnt/salesData/gold/dim_product/', name='dim_product/', size=0, modificationTime=1749582619000),\n",
       " FileInfo(path='dbfs:/mnt/salesData/gold/fact_sales/', name='fact_sales/', size=0, modificationTime=1749582620000)]"
      ]
     },
     "execution_count": 2,
     "metadata": {},
     "output_type": "execute_result"
    }
   ],
   "source": [
    "%python\n",
    "dbutils.fs.ls(\"/mnt/salesData/gold\")"
   ]
  },
  {
   "cell_type": "code",
   "execution_count": 0,
   "metadata": {
    "application/vnd.databricks.v1+cell": {
     "cellMetadata": {
      "byteLimit": 2048000,
      "rowLimit": 10000
     },
     "inputWidgets": {},
     "nuid": "0be464ae-03df-4440-80f2-d678035d7b66",
     "showTitle": false,
     "tableResultSettingsMap": {},
     "title": ""
    }
   },
   "outputs": [],
   "source": [
    "dim_customer = spark.read.csv(\"dbfs:/mnt/salesData/gold/dim_customer/\", header=True, inferSchema=True)\n",
    "dim_product = spark.read.csv(\"dbfs:/mnt/salesData/gold/dim_product/\", header=True, inferSchema=True)\n",
    "fact_sales = spark.read.csv(\"dbfs:/mnt/salesData/gold/fact_sales/\", header=True, inferSchema=True)\n"
   ]
  },
  {
   "cell_type": "code",
   "execution_count": 0,
   "metadata": {
    "application/vnd.databricks.v1+cell": {
     "cellMetadata": {
      "byteLimit": 2048000,
      "rowLimit": 10000
     },
     "inputWidgets": {},
     "nuid": "faeb2307-8175-4d8e-953e-b9695437b393",
     "showTitle": false,
     "tableResultSettingsMap": {},
     "title": ""
    }
   },
   "outputs": [],
   "source": [
    "# creat temp view or table to use sql queries\n",
    "dim_product.createOrReplaceTempView(\"view_product\")\n",
    "dim_customer.createOrReplaceTempView(\"view_customer\")\n",
    "fact_sales.createOrReplaceTempView(\"view_sales\")\n"
   ]
  },
  {
   "cell_type": "code",
   "execution_count": 0,
   "metadata": {
    "application/vnd.databricks.v1+cell": {
     "cellMetadata": {
      "byteLimit": 2048000,
      "rowLimit": 10000
     },
     "inputWidgets": {},
     "nuid": "c0c8dfff-945f-47ee-b3b1-d04bb7188c65",
     "showTitle": false,
     "tableResultSettingsMap": {},
     "title": ""
    }
   },
   "outputs": [],
   "source": [
    "customer_report =spark.sql(\"\"\"\n",
    "        with base_query AS(\n",
    "            SELECT\n",
    "                sf.order_date,\n",
    "                sf.product_key,\n",
    "                sf.order_number,\n",
    "                sf.sales_amount,\n",
    "                sf.sales_quantity AS quantity,\n",
    "                cd.customer_id AS customer_number,\n",
    "                FLOOR(months_between(current_date(), cd.birthdate) / 12) AS customer_age,\n",
    "                concat_ws(' ', cd.firstname, cd.lastname) as customer_name,\n",
    "                cd.customer_key \n",
    "            from view_sales sf \n",
    "            LEFT JOIN view_customer cd ON sf.customer_id = cd.customer_id\n",
    "            WHERE sf.order_date is not NULL\n",
    "        ),\n",
    "customer_aggregation AS(\n",
    "            SELECT \n",
    "                customer_age,\n",
    "                customer_name,\n",
    "                customer_key,\n",
    "                customer_number,\n",
    "                count(DISTINCT order_number) AS total_orders,\n",
    "                sum(sales_amount) AS total_sales,\n",
    "                count(DISTINCT product_key) AS total_products,\n",
    "                sum(quantity) as total_quantity,\n",
    "                max(order_date) as last_order_date,\n",
    "                months_between(max(order_date), min(order_date)) AS lifespan\n",
    "            from base_query\n",
    "            GROUP BY customer_key, customer_number, customer_name, customer_age\n",
    "        )\n",
    "\n",
    "SELECT\n",
    "customer_age,\n",
    "customer_name,\n",
    "customer_key,\n",
    "customer_number,\n",
    "case\n",
    "    when customer_age < 20 then 'under 20'\n",
    "    when customer_age between 20 and 29 then '20-29'\n",
    "    when customer_age between 30 and 39 then '30-39'\n",
    "    when customer_age between 40 and 49 then '40-49'\n",
    "    else '50 and above'\n",
    "end age_group,\n",
    "case\n",
    "    when lifespan >= 12 and total_sales > 5000 then 'VIP'\n",
    "    when lifespan >= 12 and total_sales <= 5000 then 'Regular'\n",
    "    else 'New'\n",
    "end customer_segment,\n",
    "total_orders,\n",
    "total_sales,\n",
    "total_quantity,\n",
    "total_products,\n",
    "last_order_date,\n",
    "-- is customer still active\n",
    "FLOOR(months_between(current_date(), last_order_date)) AS recency,\n",
    "lifespan,\n",
    "-- avg order value\n",
    "case\n",
    " when total_sales = 0 then 0\n",
    " else round(total_sales / total_orders,2)\n",
    "end AS avg_order_value,\n",
    "-- avg monthly spend\n",
    "case\n",
    " when lifespan = 0 then total_sales\n",
    " else round(total_sales / lifespan,2)\n",
    "end AS avg_monthly_spend\n",
    "from customer_aggregation\n",
    "\"\"\")"
   ]
  },
  {
   "cell_type": "code",
   "execution_count": 0,
   "metadata": {
    "application/vnd.databricks.v1+cell": {
     "cellMetadata": {
      "byteLimit": 2048000,
      "rowLimit": 10000
     },
     "inputWidgets": {},
     "nuid": "2dcc7d0d-8557-4d39-b9a6-1227b14a977b",
     "showTitle": false,
     "tableResultSettingsMap": {},
     "title": ""
    }
   },
   "outputs": [],
   "source": [
    "product_report =spark.sql(\n",
    "    \"\"\"\n",
    "    with base_query AS (\n",
    "        SELECT\n",
    "            sf.order_date,\n",
    "            sf.customer_id AS customer_key,\n",
    "            sf.order_number,\n",
    "            sf.sales_amount,\n",
    "            sf.sales_quantity AS quantity,\n",
    "            pd.product_key AS product_number,\n",
    "            pd.product_name,\n",
    "            pd.product_category AS category,\n",
    "            pd.product_subcategory AS subcategory,\n",
    "            pd.maintenance,\n",
    "            pd.product_cost AS cost,\n",
    "            pd.product_line,\n",
    "            pd.product_id AS product_key\n",
    "        \n",
    "        from view_sales sf \n",
    "        LEFT JOIN view_product pd ON sf.product_key = pd.product_key\n",
    "        WHERE sf.order_date is not NULL\n",
    "        \n",
    "        ),\n",
    "    product_aggregation AS(\n",
    "    SELECT \n",
    "        product_number,\n",
    "        category,\n",
    "        subcategory,\n",
    "        product_name,\n",
    "        product_key,\n",
    "        cost ,\n",
    "        count(DISTINCT order_number) AS total_orders,\n",
    "        sum(sales_amount) AS total_sales,\n",
    "        count(DISTINCT customer_key) AS total_customers,\n",
    "        sum(quantity) as total_quantity,\n",
    "        max(order_date) as last_order_date,\n",
    "        months_between(max(order_date), min(order_date)) AS lifespan\n",
    "    from base_query\n",
    "    GROUP BY product_key, product_number, product_name, category, subcategory,cost \n",
    "    \n",
    "    )\n",
    "\n",
    "SELECT\n",
    "    product_number,\n",
    "    category,\n",
    "    subcategory,\n",
    "    product_name,\n",
    "    product_key,\n",
    "    cost ,\n",
    "    case\n",
    "        when total_sales > 50000 then 'High-Performer'\n",
    "        when total_sales >= 10000 then 'Mid-Range'\n",
    "        else 'Low-Performer'\n",
    "    end product_segment,\n",
    "    total_orders,\n",
    "    total_sales,\n",
    "    total_quantity,\n",
    "    total_customers,\n",
    "    last_order_date,\n",
    "    -- is customer still active\n",
    "    FLOOR(months_between(current_date(), last_order_date)) AS recency,\n",
    "    -- avg order value\n",
    "    case\n",
    "     when total_sales = 0 then 0\n",
    "     else round(total_sales / total_orders,2)\n",
    "    end AS avg_order_revenue,\n",
    "    -- avg monthly spend\n",
    "    case\n",
    "     when lifespan = 0 then total_sales\n",
    "     else round(total_sales / lifespan,2)\n",
    "    end AS avg_monthly_revenue\n",
    "from product_aggregation\n",
    "    \"\"\"\n",
    ")"
   ]
  },
  {
   "cell_type": "code",
   "execution_count": 0,
   "metadata": {
    "application/vnd.databricks.v1+cell": {
     "cellMetadata": {
      "byteLimit": 2048000,
      "rowLimit": 10000
     },
     "inputWidgets": {},
     "nuid": "888dd798-6852-4e39-a64d-422ea4eb01bd",
     "showTitle": false,
     "tableResultSettingsMap": {},
     "title": ""
    }
   },
   "outputs": [],
   "source": [
    "# write all transform data as csv to silver dir\n",
    "def write_to_gold(df,table_name):\n",
    "    try:\n",
    "        df.write.mode(\"overwrite\").format(\"csv\").option(\"header\",True).save(f\"/mnt/salesData/gold/{table_name}\")\n",
    "        print(f\"{table_name} written to gold\")\n",
    "    except Exception as e:\n",
    "        print(f\"error in writing {table_name} to gold\",e)  # read error message\n",
    "      "
   ]
  },
  {
   "cell_type": "code",
   "execution_count": 0,
   "metadata": {
    "application/vnd.databricks.v1+cell": {
     "cellMetadata": {
      "byteLimit": 2048000,
      "rowLimit": 10000
     },
     "inputWidgets": {},
     "nuid": "97deb91d-898b-465a-a428-d8ab269b6ef5",
     "showTitle": false,
     "tableResultSettingsMap": {},
     "title": ""
    }
   },
   "outputs": [
    {
     "name": "stdout",
     "output_type": "stream",
     "text": [
      "customer_report written to gold\n",
      "product_report written to gold\n"
     ]
    }
   ],
   "source": [
    "write_to_gold(customer_report,'customer_report')\n",
    "write_to_gold(product_report,'product_report')\n",
    "\n"
   ]
  }
 ],
 "metadata": {
  "application/vnd.databricks.v1+notebook": {
   "computePreferences": null,
   "dashboards": [],
   "environmentMetadata": {
    "base_environment": "",
    "environment_version": "2"
   },
   "inputWidgetPreferences": null,
   "language": "python",
   "notebookMetadata": {
    "pythonIndentUnit": 4
   },
   "notebookName": "goldReports",
   "widgets": {}
  },
  "language_info": {
   "name": "python"
  }
 },
 "nbformat": 4,
 "nbformat_minor": 0
}
